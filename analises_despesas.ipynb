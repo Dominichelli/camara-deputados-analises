{
 "cells": [
  {
   "cell_type": "code",
   "execution_count": 27,
   "id": "7609520a",
   "metadata": {},
   "outputs": [],
   "source": [
    "import pyodbc\n",
    "import pandas as pd\n",
    "import matplotlib.pyplot as plt\n",
    "import seaborn as sns   \n"
   ]
  },
  {
   "cell_type": "code",
   "execution_count": null,
   "id": "48d628f0",
   "metadata": {},
   "outputs": [
    {
     "name": "stdout",
     "output_type": "stream",
     "text": [
      "Conexão bem sucedida!\n"
     ]
    }
   ],
   "source": [
    "dados_conexao = (\n",
    "    \"Driver={SQL Server};\"\n",
    "    \"Server= Meu_Servidor;\"\n",
    "    \"Database=RenovaBr;\"\n",
    ")\n",
    "\n",
    "conexao = pyodbc.connect(dados_conexao)\n",
    "print (\"Conexão bem sucedida!\")"
   ]
  },
  {
   "cell_type": "code",
   "execution_count": 6,
   "id": "41984b59",
   "metadata": {},
   "outputs": [
    {
     "name": "stderr",
     "output_type": "stream",
     "text": [
      "C:\\Users\\vitor\\AppData\\Local\\Temp\\ipykernel_15848\\3939569840.py:1: UserWarning: pandas only supports SQLAlchemy connectable (engine/connection) or database string URI or sqlite3 DBAPI2 connection. Other DBAPI2 objects are not tested. Please consider using SQLAlchemy.\n",
      "  df_deputados = pd.read_sql(\"SELECT * FROM Deputados\", conexao)\n",
      "C:\\Users\\vitor\\AppData\\Local\\Temp\\ipykernel_15848\\3939569840.py:2: UserWarning: pandas only supports SQLAlchemy connectable (engine/connection) or database string URI or sqlite3 DBAPI2 connection. Other DBAPI2 objects are not tested. Please consider using SQLAlchemy.\n",
      "  df_despesas = pd.read_sql(\"SELECT * FROM Deputados_Despesas\", conexao)\n"
     ]
    }
   ],
   "source": [
    "df_deputados = pd.read_sql(\"SELECT * FROM Deputados\", conexao)\n",
    "df_despesas = pd.read_sql(\"SELECT * FROM Deputados_Despesas\", conexao)"
   ]
  },
  {
   "cell_type": "code",
   "execution_count": null,
   "id": "6a32aa86",
   "metadata": {},
   "outputs": [
    {
     "name": "stdout",
     "output_type": "stream",
     "text": [
      "         id             nome siglaPartido siglaUf  \\\n",
      "0     62881     Danilo Forte        UNIÃO      CE   \n",
      "1     66385  Julio Arcoverde           PP      PI   \n",
      "2     66828    Fausto Pinato           PP      SP   \n",
      "3     69871          Bacelar           PV      BA   \n",
      "4     72442  Felipe Carreras          PSB      PE   \n",
      "..      ...              ...          ...     ...   \n",
      "507  231911   Lenir de Assis           PT      PR   \n",
      "508  233218  Nelinho Freitas          MDB      CE   \n",
      "509  233592      Paulo Lemos         PSOL      AP   \n",
      "510  233594      Rafael Fera         PODE      RO   \n",
      "511  233598    Samuel Santos         PODE      GO   \n",
      "\n",
      "                                email  \n",
      "0       dep.daniloforte@camara.leg.br  \n",
      "1    dep.julioarcoverde@camara.leg.br  \n",
      "2      dep.faustopinato@camara.leg.br  \n",
      "3           dep.bacelar@camara.leg.br  \n",
      "4    dep.felipecarreras@camara.leg.br  \n",
      "..                                ...  \n",
      "507    dep.lenirdeassis@camara.leg.br  \n",
      "508  dep.nelinhofreitas@camara.leg.br  \n",
      "509      dep.paulolemos@camara.leg.br  \n",
      "510      dep.rafaelfera@camara.leg.br  \n",
      "511    dep.samuelsantos@camara.leg.br  \n",
      "\n",
      "[512 rows x 5 columns]\n"
     ]
    }
   ],
   "source": [
    "#Removendo duplicatas\n",
    "df_deputados = df_deputados.drop_duplicates()\n",
    "print (df_deputados)\n"
   ]
  },
  {
   "cell_type": "code",
   "execution_count": 10,
   "id": "76e77f83",
   "metadata": {},
   "outputs": [
    {
     "name": "stdout",
     "output_type": "stream",
     "text": [
      "        id  id_deputado   ano  mes  \\\n",
      "0        1       204379  2025    4   \n",
      "1        2       204379  2025    5   \n",
      "2        3       204379  2025    6   \n",
      "3        4       204379  2025    7   \n",
      "4        5       204379  2025    8   \n",
      "...    ...          ...   ...  ...   \n",
      "7630  7631       220552  2025    7   \n",
      "7631  7632       220552  2025    4   \n",
      "7632  7633       220552  2025    5   \n",
      "7633  7634       220552  2025    6   \n",
      "7634  7635       220552  2025    7   \n",
      "\n",
      "                                            tipoDespesa   tipoDocumento  \\\n",
      "0     MANUTENÇÃO DE ESCRITÓRIO DE APOIO À ATIVIDADE ...     Nota Fiscal   \n",
      "1     MANUTENÇÃO DE ESCRITÓRIO DE APOIO À ATIVIDADE ...     Nota Fiscal   \n",
      "2     MANUTENÇÃO DE ESCRITÓRIO DE APOIO À ATIVIDADE ...     Nota Fiscal   \n",
      "3     MANUTENÇÃO DE ESCRITÓRIO DE APOIO À ATIVIDADE ...     Nota Fiscal   \n",
      "4     MANUTENÇÃO DE ESCRITÓRIO DE APOIO À ATIVIDADE ...     Nota Fiscal   \n",
      "...                                                 ...             ...   \n",
      "7630  MANUTENÇÃO DE ESCRITÓRIO DE APOIO À ATIVIDADE ...  Recibos/Outros   \n",
      "7631  MANUTENÇÃO DE ESCRITÓRIO DE APOIO À ATIVIDADE ...     Nota Fiscal   \n",
      "7632  MANUTENÇÃO DE ESCRITÓRIO DE APOIO À ATIVIDADE ...     Nota Fiscal   \n",
      "7633  MANUTENÇÃO DE ESCRITÓRIO DE APOIO À ATIVIDADE ...     Nota Fiscal   \n",
      "7634  MANUTENÇÃO DE ESCRITÓRIO DE APOIO À ATIVIDADE ...     Nota Fiscal   \n",
      "\n",
      "      valorLiquido  \n",
      "0            750.0  \n",
      "1            750.0  \n",
      "2            750.0  \n",
      "3            800.0  \n",
      "4            800.0  \n",
      "...            ...  \n",
      "7630         780.0  \n",
      "7631        1050.0  \n",
      "7632        1050.0  \n",
      "7633        1050.0  \n",
      "7634        1050.0  \n",
      "\n",
      "[7635 rows x 7 columns]\n"
     ]
    }
   ],
   "source": [
    "df_despesas = df_despesas.drop_duplicates()\n",
    "print (df_despesas)"
   ]
  },
  {
   "cell_type": "code",
   "execution_count": 13,
   "id": "2773dd28",
   "metadata": {},
   "outputs": [
    {
     "name": "stdout",
     "output_type": "stream",
     "text": [
      "<class 'pandas.core.frame.DataFrame'>\n",
      "RangeIndex: 512 entries, 0 to 511\n",
      "Data columns (total 5 columns):\n",
      " #   Column        Non-Null Count  Dtype \n",
      "---  ------        --------------  ----- \n",
      " 0   id            512 non-null    int64 \n",
      " 1   nome          512 non-null    object\n",
      " 2   siglaPartido  512 non-null    object\n",
      " 3   siglaUf       512 non-null    object\n",
      " 4   email         512 non-null    object\n",
      "dtypes: int64(1), object(4)\n",
      "memory usage: 20.1+ KB\n",
      "None\n"
     ]
    }
   ],
   "source": [
    "print(df_deputados.info())"
   ]
  },
  {
   "cell_type": "code",
   "execution_count": 14,
   "id": "5495a13a",
   "metadata": {},
   "outputs": [
    {
     "name": "stdout",
     "output_type": "stream",
     "text": [
      "<class 'pandas.core.frame.DataFrame'>\n",
      "RangeIndex: 7635 entries, 0 to 7634\n",
      "Data columns (total 7 columns):\n",
      " #   Column         Non-Null Count  Dtype  \n",
      "---  ------         --------------  -----  \n",
      " 0   id             7635 non-null   int64  \n",
      " 1   id_deputado    7635 non-null   int64  \n",
      " 2   ano            7635 non-null   int64  \n",
      " 3   mes            7635 non-null   int64  \n",
      " 4   tipoDespesa    7635 non-null   object \n",
      " 5   tipoDocumento  7635 non-null   object \n",
      " 6   valorLiquido   7635 non-null   float64\n",
      "dtypes: float64(1), int64(4), object(2)\n",
      "memory usage: 417.7+ KB\n",
      "None\n"
     ]
    }
   ],
   "source": [
    "print(df_despesas.info())"
   ]
  },
  {
   "cell_type": "code",
   "execution_count": 16,
   "id": "b3690121",
   "metadata": {},
   "outputs": [
    {
     "data": {
      "text/plain": [
       "id               0\n",
       "id_deputado      0\n",
       "ano              0\n",
       "mes              0\n",
       "tipoDespesa      0\n",
       "tipoDocumento    0\n",
       "valorLiquido     0\n",
       "dtype: int64"
      ]
     },
     "execution_count": 16,
     "metadata": {},
     "output_type": "execute_result"
    }
   ],
   "source": [
    "#Verificandon se há valores nulos\n",
    "df_deputados.isnull().sum()\n",
    "df_despesas.isnull().sum()"
   ]
  },
  {
   "cell_type": "code",
   "execution_count": 22,
   "id": "73fe078e",
   "metadata": {},
   "outputs": [
    {
     "data": {
      "text/html": [
       "<div>\n",
       "<style scoped>\n",
       "    .dataframe tbody tr th:only-of-type {\n",
       "        vertical-align: middle;\n",
       "    }\n",
       "\n",
       "    .dataframe tbody tr th {\n",
       "        vertical-align: top;\n",
       "    }\n",
       "\n",
       "    .dataframe thead th {\n",
       "        text-align: right;\n",
       "    }\n",
       "</style>\n",
       "<table border=\"1\" class=\"dataframe\">\n",
       "  <thead>\n",
       "    <tr style=\"text-align: right;\">\n",
       "      <th></th>\n",
       "      <th>id</th>\n",
       "      <th>nome</th>\n",
       "      <th>siglaPartido</th>\n",
       "      <th>siglaUf</th>\n",
       "      <th>email</th>\n",
       "    </tr>\n",
       "  </thead>\n",
       "  <tbody>\n",
       "    <tr>\n",
       "      <th>0</th>\n",
       "      <td>62881</td>\n",
       "      <td>Danilo Forte</td>\n",
       "      <td>UNIÃO</td>\n",
       "      <td>CE</td>\n",
       "      <td>dep.daniloforte@camara.leg.br</td>\n",
       "    </tr>\n",
       "    <tr>\n",
       "      <th>1</th>\n",
       "      <td>66385</td>\n",
       "      <td>Julio Arcoverde</td>\n",
       "      <td>PP</td>\n",
       "      <td>PI</td>\n",
       "      <td>dep.julioarcoverde@camara.leg.br</td>\n",
       "    </tr>\n",
       "    <tr>\n",
       "      <th>2</th>\n",
       "      <td>66828</td>\n",
       "      <td>Fausto Pinato</td>\n",
       "      <td>PP</td>\n",
       "      <td>SP</td>\n",
       "      <td>dep.faustopinato@camara.leg.br</td>\n",
       "    </tr>\n",
       "    <tr>\n",
       "      <th>3</th>\n",
       "      <td>69871</td>\n",
       "      <td>Bacelar</td>\n",
       "      <td>PV</td>\n",
       "      <td>BA</td>\n",
       "      <td>dep.bacelar@camara.leg.br</td>\n",
       "    </tr>\n",
       "    <tr>\n",
       "      <th>4</th>\n",
       "      <td>72442</td>\n",
       "      <td>Felipe Carreras</td>\n",
       "      <td>PSB</td>\n",
       "      <td>PE</td>\n",
       "      <td>dep.felipecarreras@camara.leg.br</td>\n",
       "    </tr>\n",
       "  </tbody>\n",
       "</table>\n",
       "</div>"
      ],
      "text/plain": [
       "      id             nome siglaPartido siglaUf  \\\n",
       "0  62881     Danilo Forte        UNIÃO      CE   \n",
       "1  66385  Julio Arcoverde           PP      PI   \n",
       "2  66828    Fausto Pinato           PP      SP   \n",
       "3  69871          Bacelar           PV      BA   \n",
       "4  72442  Felipe Carreras          PSB      PE   \n",
       "\n",
       "                              email  \n",
       "0     dep.daniloforte@camara.leg.br  \n",
       "1  dep.julioarcoverde@camara.leg.br  \n",
       "2    dep.faustopinato@camara.leg.br  \n",
       "3         dep.bacelar@camara.leg.br  \n",
       "4  dep.felipecarreras@camara.leg.br  "
      ]
     },
     "execution_count": 22,
     "metadata": {},
     "output_type": "execute_result"
    }
   ],
   "source": [
    "df_deputados.head()"
   ]
  },
  {
   "cell_type": "code",
   "execution_count": 23,
   "id": "b7202fe4",
   "metadata": {},
   "outputs": [
    {
     "data": {
      "text/html": [
       "<div>\n",
       "<style scoped>\n",
       "    .dataframe tbody tr th:only-of-type {\n",
       "        vertical-align: middle;\n",
       "    }\n",
       "\n",
       "    .dataframe tbody tr th {\n",
       "        vertical-align: top;\n",
       "    }\n",
       "\n",
       "    .dataframe thead th {\n",
       "        text-align: right;\n",
       "    }\n",
       "</style>\n",
       "<table border=\"1\" class=\"dataframe\">\n",
       "  <thead>\n",
       "    <tr style=\"text-align: right;\">\n",
       "      <th></th>\n",
       "      <th>id</th>\n",
       "      <th>id_deputado</th>\n",
       "      <th>ano</th>\n",
       "      <th>mes</th>\n",
       "      <th>tipoDespesa</th>\n",
       "      <th>tipoDocumento</th>\n",
       "      <th>valorLiquido</th>\n",
       "    </tr>\n",
       "  </thead>\n",
       "  <tbody>\n",
       "    <tr>\n",
       "      <th>0</th>\n",
       "      <td>1</td>\n",
       "      <td>204379</td>\n",
       "      <td>2025</td>\n",
       "      <td>4</td>\n",
       "      <td>MANUTENÇÃO DE ESCRITÓRIO DE APOIO À ATIVIDADE ...</td>\n",
       "      <td>Nota Fiscal</td>\n",
       "      <td>750.0</td>\n",
       "    </tr>\n",
       "    <tr>\n",
       "      <th>1</th>\n",
       "      <td>2</td>\n",
       "      <td>204379</td>\n",
       "      <td>2025</td>\n",
       "      <td>5</td>\n",
       "      <td>MANUTENÇÃO DE ESCRITÓRIO DE APOIO À ATIVIDADE ...</td>\n",
       "      <td>Nota Fiscal</td>\n",
       "      <td>750.0</td>\n",
       "    </tr>\n",
       "    <tr>\n",
       "      <th>2</th>\n",
       "      <td>3</td>\n",
       "      <td>204379</td>\n",
       "      <td>2025</td>\n",
       "      <td>6</td>\n",
       "      <td>MANUTENÇÃO DE ESCRITÓRIO DE APOIO À ATIVIDADE ...</td>\n",
       "      <td>Nota Fiscal</td>\n",
       "      <td>750.0</td>\n",
       "    </tr>\n",
       "    <tr>\n",
       "      <th>3</th>\n",
       "      <td>4</td>\n",
       "      <td>204379</td>\n",
       "      <td>2025</td>\n",
       "      <td>7</td>\n",
       "      <td>MANUTENÇÃO DE ESCRITÓRIO DE APOIO À ATIVIDADE ...</td>\n",
       "      <td>Nota Fiscal</td>\n",
       "      <td>800.0</td>\n",
       "    </tr>\n",
       "    <tr>\n",
       "      <th>4</th>\n",
       "      <td>5</td>\n",
       "      <td>204379</td>\n",
       "      <td>2025</td>\n",
       "      <td>8</td>\n",
       "      <td>MANUTENÇÃO DE ESCRITÓRIO DE APOIO À ATIVIDADE ...</td>\n",
       "      <td>Nota Fiscal</td>\n",
       "      <td>800.0</td>\n",
       "    </tr>\n",
       "  </tbody>\n",
       "</table>\n",
       "</div>"
      ],
      "text/plain": [
       "   id  id_deputado   ano  mes  \\\n",
       "0   1       204379  2025    4   \n",
       "1   2       204379  2025    5   \n",
       "2   3       204379  2025    6   \n",
       "3   4       204379  2025    7   \n",
       "4   5       204379  2025    8   \n",
       "\n",
       "                                         tipoDespesa tipoDocumento  \\\n",
       "0  MANUTENÇÃO DE ESCRITÓRIO DE APOIO À ATIVIDADE ...   Nota Fiscal   \n",
       "1  MANUTENÇÃO DE ESCRITÓRIO DE APOIO À ATIVIDADE ...   Nota Fiscal   \n",
       "2  MANUTENÇÃO DE ESCRITÓRIO DE APOIO À ATIVIDADE ...   Nota Fiscal   \n",
       "3  MANUTENÇÃO DE ESCRITÓRIO DE APOIO À ATIVIDADE ...   Nota Fiscal   \n",
       "4  MANUTENÇÃO DE ESCRITÓRIO DE APOIO À ATIVIDADE ...   Nota Fiscal   \n",
       "\n",
       "   valorLiquido  \n",
       "0         750.0  \n",
       "1         750.0  \n",
       "2         750.0  \n",
       "3         800.0  \n",
       "4         800.0  "
      ]
     },
     "execution_count": 23,
     "metadata": {},
     "output_type": "execute_result"
    }
   ],
   "source": [
    "df_despesas.head()"
   ]
  },
  {
   "cell_type": "code",
   "execution_count": 24,
   "id": "8e30b8f3",
   "metadata": {},
   "outputs": [],
   "source": [
    "#Garantindo que os dados estejam padronizados\n",
    "df_deputados['siglaPartido'] = df_deputados['siglaPartido'].str.upper()\n",
    "df_deputados['siglaUf'] = df_deputados['siglaUf'].str.upper()\n",
    "\n",
    "df_despesas['tipoDespesa'] = df_despesas['tipoDespesa'].str.upper()\n"
   ]
  },
  {
   "cell_type": "code",
   "execution_count": 28,
   "id": "5a02d046",
   "metadata": {},
   "outputs": [
    {
     "data": {
      "text/html": [
       "<div>\n",
       "<style scoped>\n",
       "    .dataframe tbody tr th:only-of-type {\n",
       "        vertical-align: middle;\n",
       "    }\n",
       "\n",
       "    .dataframe tbody tr th {\n",
       "        vertical-align: top;\n",
       "    }\n",
       "\n",
       "    .dataframe thead th {\n",
       "        text-align: right;\n",
       "    }\n",
       "</style>\n",
       "<table border=\"1\" class=\"dataframe\">\n",
       "  <thead>\n",
       "    <tr style=\"text-align: right;\">\n",
       "      <th></th>\n",
       "      <th>id_x</th>\n",
       "      <th>nome</th>\n",
       "      <th>siglaPartido</th>\n",
       "      <th>siglaUf</th>\n",
       "      <th>email</th>\n",
       "      <th>id_y</th>\n",
       "      <th>id_deputado</th>\n",
       "      <th>ano</th>\n",
       "      <th>mes</th>\n",
       "      <th>tipoDespesa</th>\n",
       "      <th>tipoDocumento</th>\n",
       "      <th>valorLiquido</th>\n",
       "    </tr>\n",
       "  </thead>\n",
       "  <tbody>\n",
       "    <tr>\n",
       "      <th>0</th>\n",
       "      <td>62881</td>\n",
       "      <td>Danilo Forte</td>\n",
       "      <td>UNIÃO</td>\n",
       "      <td>CE</td>\n",
       "      <td>dep.daniloforte@camara.leg.br</td>\n",
       "      <td>1726.0</td>\n",
       "      <td>62881.0</td>\n",
       "      <td>2025.0</td>\n",
       "      <td>7.0</td>\n",
       "      <td>MANUTENÇÃO DE ESCRITÓRIO DE APOIO À ATIVIDADE ...</td>\n",
       "      <td>Nota Fiscal</td>\n",
       "      <td>104.58</td>\n",
       "    </tr>\n",
       "    <tr>\n",
       "      <th>1</th>\n",
       "      <td>62881</td>\n",
       "      <td>Danilo Forte</td>\n",
       "      <td>UNIÃO</td>\n",
       "      <td>CE</td>\n",
       "      <td>dep.daniloforte@camara.leg.br</td>\n",
       "      <td>1727.0</td>\n",
       "      <td>62881.0</td>\n",
       "      <td>2025.0</td>\n",
       "      <td>8.0</td>\n",
       "      <td>MANUTENÇÃO DE ESCRITÓRIO DE APOIO À ATIVIDADE ...</td>\n",
       "      <td>Nota Fiscal</td>\n",
       "      <td>104.58</td>\n",
       "    </tr>\n",
       "    <tr>\n",
       "      <th>2</th>\n",
       "      <td>62881</td>\n",
       "      <td>Danilo Forte</td>\n",
       "      <td>UNIÃO</td>\n",
       "      <td>CE</td>\n",
       "      <td>dep.daniloforte@camara.leg.br</td>\n",
       "      <td>1728.0</td>\n",
       "      <td>62881.0</td>\n",
       "      <td>2025.0</td>\n",
       "      <td>5.0</td>\n",
       "      <td>MANUTENÇÃO DE ESCRITÓRIO DE APOIO À ATIVIDADE ...</td>\n",
       "      <td>Nota Fiscal</td>\n",
       "      <td>291.60</td>\n",
       "    </tr>\n",
       "    <tr>\n",
       "      <th>3</th>\n",
       "      <td>62881</td>\n",
       "      <td>Danilo Forte</td>\n",
       "      <td>UNIÃO</td>\n",
       "      <td>CE</td>\n",
       "      <td>dep.daniloforte@camara.leg.br</td>\n",
       "      <td>1729.0</td>\n",
       "      <td>62881.0</td>\n",
       "      <td>2025.0</td>\n",
       "      <td>4.0</td>\n",
       "      <td>MANUTENÇÃO DE ESCRITÓRIO DE APOIO À ATIVIDADE ...</td>\n",
       "      <td>Nota Fiscal</td>\n",
       "      <td>291.60</td>\n",
       "    </tr>\n",
       "    <tr>\n",
       "      <th>4</th>\n",
       "      <td>62881</td>\n",
       "      <td>Danilo Forte</td>\n",
       "      <td>UNIÃO</td>\n",
       "      <td>CE</td>\n",
       "      <td>dep.daniloforte@camara.leg.br</td>\n",
       "      <td>1730.0</td>\n",
       "      <td>62881.0</td>\n",
       "      <td>2025.0</td>\n",
       "      <td>6.0</td>\n",
       "      <td>MANUTENÇÃO DE ESCRITÓRIO DE APOIO À ATIVIDADE ...</td>\n",
       "      <td>Recibos/Outros</td>\n",
       "      <td>291.60</td>\n",
       "    </tr>\n",
       "  </tbody>\n",
       "</table>\n",
       "</div>"
      ],
      "text/plain": [
       "    id_x          nome siglaPartido siglaUf                          email  \\\n",
       "0  62881  Danilo Forte        UNIÃO      CE  dep.daniloforte@camara.leg.br   \n",
       "1  62881  Danilo Forte        UNIÃO      CE  dep.daniloforte@camara.leg.br   \n",
       "2  62881  Danilo Forte        UNIÃO      CE  dep.daniloforte@camara.leg.br   \n",
       "3  62881  Danilo Forte        UNIÃO      CE  dep.daniloforte@camara.leg.br   \n",
       "4  62881  Danilo Forte        UNIÃO      CE  dep.daniloforte@camara.leg.br   \n",
       "\n",
       "     id_y  id_deputado     ano  mes  \\\n",
       "0  1726.0      62881.0  2025.0  7.0   \n",
       "1  1727.0      62881.0  2025.0  8.0   \n",
       "2  1728.0      62881.0  2025.0  5.0   \n",
       "3  1729.0      62881.0  2025.0  4.0   \n",
       "4  1730.0      62881.0  2025.0  6.0   \n",
       "\n",
       "                                         tipoDespesa   tipoDocumento  \\\n",
       "0  MANUTENÇÃO DE ESCRITÓRIO DE APOIO À ATIVIDADE ...     Nota Fiscal   \n",
       "1  MANUTENÇÃO DE ESCRITÓRIO DE APOIO À ATIVIDADE ...     Nota Fiscal   \n",
       "2  MANUTENÇÃO DE ESCRITÓRIO DE APOIO À ATIVIDADE ...     Nota Fiscal   \n",
       "3  MANUTENÇÃO DE ESCRITÓRIO DE APOIO À ATIVIDADE ...     Nota Fiscal   \n",
       "4  MANUTENÇÃO DE ESCRITÓRIO DE APOIO À ATIVIDADE ...  Recibos/Outros   \n",
       "\n",
       "   valorLiquido  \n",
       "0        104.58  \n",
       "1        104.58  \n",
       "2        291.60  \n",
       "3        291.60  \n",
       "4        291.60  "
      ]
     },
     "execution_count": 28,
     "metadata": {},
     "output_type": "execute_result"
    }
   ],
   "source": [
    "# Combinando os dois DataFrames\n",
    "df_deputados_despesas = pd.merge(df_deputados, df_despesas, left_on='id', right_on='id_deputado', how='left')\n",
    "df_deputados_despesas.head()"
   ]
  },
  {
   "cell_type": "code",
   "execution_count": 43,
   "id": "8e709794",
   "metadata": {},
   "outputs": [
    {
     "name": "stdout",
     "output_type": "stream",
     "text": [
      "   index  id_deputado  valorLiquido             nome\n",
      "0    457     220681.0  55276.770000     Fábio Macedo\n",
      "1    492     224117.0  41833.333333     Gabriel Mota\n",
      "2    465     220689.0  41500.000000          Detinha\n",
      "3    506     233218.0  38533.987500  Nelinho Freitas\n",
      "4    279     204498.0  37639.282000   Olival Marques\n"
     ]
    }
   ],
   "source": [
    "# top 5 deputados que tem mais gastos (media mensal de gastos - últimos 3 anos)\n",
    "tres_anos = df_deputados_despesas [df_deputados_despesas['ano']>=2023]\n",
    "gastos_mensais = tres_anos.groupby(['id_deputado', 'mes'])['valorLiquido'].sum().reset_index()\n",
    "media_mensal = gastos_mensais.groupby('id_deputado')['valorLiquido'].mean().reset_index()\n",
    "media_mensal=media_mensal.merge(df_deputados_despesas[['id_deputado', 'nome']].drop_duplicates(), on='id_deputado', how='left')\n",
    "top5_mais = media_mensal.sort_values('valorLiquido', ascending=False).head(5).reset_index()\n",
    "\n",
    "print(top5_mais)"
   ]
  },
  {
   "cell_type": "code",
   "execution_count": 44,
   "id": "9c85220b",
   "metadata": {},
   "outputs": [
    {
     "name": "stdout",
     "output_type": "stream",
     "text": [
      "   index  id_deputado  valorLiquido              nome\n",
      "0     96     141470.0    121.096667    José Guimarães\n",
      "1    160     178829.0    155.966667   Capitão Augusto\n",
      "2    354     220559.0    236.656000     Julia Zanatta\n",
      "3    223     204374.0    312.712000         Bia Kicis\n",
      "4    273     204489.0    323.066667  Robério Monteiro\n"
     ]
    }
   ],
   "source": [
    "# top 5 deputados que tem mais gastos (media mensal de gastos - últimos 3 anos)\n",
    "top5_menos = media_mensal.sort_values('valorLiquido', ascending=True).head(5).reset_index()\n",
    "print(top5_menos)"
   ]
  },
  {
   "cell_type": "code",
   "execution_count": 57,
   "id": "8084b548",
   "metadata": {},
   "outputs": [
    {
     "name": "stdout",
     "output_type": "stream",
     "text": [
      "    id_deputado             nome  \\\n",
      "9      233218.0  Nelinho Freitas   \n",
      "8      233218.0  Nelinho Freitas   \n",
      "11     233218.0  Nelinho Freitas   \n",
      "10     233218.0  Nelinho Freitas   \n",
      "7      224117.0     Gabriel Mota   \n",
      "6      224117.0     Gabriel Mota   \n",
      "4      220689.0          Detinha   \n",
      "5      220689.0          Detinha   \n",
      "2      220681.0     Fábio Macedo   \n",
      "3      220681.0     Fábio Macedo   \n",
      "0      204498.0   Olival Marques   \n",
      "1      204498.0   Olival Marques   \n",
      "\n",
      "                                          tipoDespesa  valorLiquido  \n",
      "9                DIVULGAÇÃO DA ATIVIDADE PARLAMENTAR.     153000.00  \n",
      "8                       COMBUSTÍVEIS E LUBRIFICANTES.       1090.10  \n",
      "11                                          TELEFONIA        119.85  \n",
      "10                            PASSAGEM AÉREA - SIGEPA        -74.00  \n",
      "7   MANUTENÇÃO DE ESCRITÓRIO DE APOIO À ATIVIDADE ...     163000.00  \n",
      "6                DIVULGAÇÃO DA ATIVIDADE PARLAMENTAR.      88000.00  \n",
      "4                DIVULGAÇÃO DA ATIVIDADE PARLAMENTAR.     150000.00  \n",
      "5       LOCAÇÃO OU FRETAMENTO DE VEÍCULOS AUTOMOTORES      57500.00  \n",
      "2                DIVULGAÇÃO DA ATIVIDADE PARLAMENTAR.      49000.00  \n",
      "3                             PASSAGEM AÉREA - SIGEPA       6276.77  \n",
      "0                DIVULGAÇÃO DA ATIVIDADE PARLAMENTAR.     175000.00  \n",
      "1                             PASSAGEM AÉREA - SIGEPA      13196.41  \n"
     ]
    }
   ],
   "source": [
    "# Quais os maiores gastos por deputado (top 5)\n",
    "top5_ids = top5_mais['id_deputado'].tolist()\n",
    "df_top5_mais = df_deputados_despesas[df_deputados_despesas['id_deputado'].isin(top5_ids)]\n",
    "tipo_gastos = df_top5_mais.groupby(['id_deputado', 'nome', 'tipoDespesa'])['valorLiquido'].sum().reset_index()\n",
    "top5_gastos_deputados = tipo_gastos.sort_values(['id_deputado', 'valorLiquido'], ascending=[False, False]).groupby('id_deputado').head(5)\n",
    "print(top5_gastos_deputados)\n"
   ]
  },
  {
   "cell_type": "code",
   "execution_count": 58,
   "id": "97d6f883",
   "metadata": {},
   "outputs": [
    {
     "data": {
      "image/png": "[encoded data removed]",
      "text/plain": [
       "<Figure size 1400x800 with 1 Axes>"
      ]
     },
     "metadata": {},
     "output_type": "display_data"
    }
   ],
   "source": [
    "#plotando gráfico sobre as despesas dos deputados\n",
    "plt.figure(figsize=(14, 8))\n",
    "sns.barplot(data=top5_gastos_deputados, x='nome', y='valorLiquido', hue='tipoDespesa')\n",
    "plt.xticks(rotation=45, ha='right')\n",
    "plt.ylabel('Gasto Total (R$)')\n",
    "plt.title('Top 5 Deputados com Maiores Gastos por Tipo de Despesa (Media mensal dos últimos 3 Anos)')\n",
    "plt.legend(title='Tipo de despesa', bbox_to_anchor=(1.05, 1), loc='upper left')\n",
    "plt.tight_layout()\n",
    "plt.show()"
   ]
  }
 ],
 "metadata": {
  "kernelspec": {
   "display_name": ".venv",
   "language": "python",
   "name": "python3"
  },
  "language_info": {
   "codemirror_mode": {
    "name": "ipython",
    "version": 3
   },
   "file_extension": ".py",
   "mimetype": "text/x-python",
   "name": "python",
   "nbconvert_exporter": "python",
   "pygments_lexer": "ipython3",
   "version": "3.11.9"
  }
 },
 "nbformat": 4,
 "nbformat_minor": 5
}
